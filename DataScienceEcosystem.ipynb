{
  "metadata": {
    "kernelspec": {
      "name": "python",
      "display_name": "Python (Pyodide)",
      "language": "python"
    },
    "language_info": {
      "codemirror_mode": {
        "name": "python",
        "version": 3
      },
      "file_extension": ".py",
      "mimetype": "text/x-python",
      "name": "python",
      "nbconvert_exporter": "python",
      "pygments_lexer": "ipython3",
      "version": "3.8"
    }
  },
  "nbformat_minor": 4,
  "nbformat": 4,
  "cells": [
    {
      "cell_type": "markdown",
      "source": "# Outils et ecosystèmes de la science des données",
      "metadata": {}
    },
    {
      "cell_type": "markdown",
      "source": "Dans ce notebook, les outils et l'écosystème de la science des données sont résumés.",
      "metadata": {}
    },
    {
      "cell_type": "markdown",
      "source": "Certains des langages populaires que les scientifiques des données utilisent sont:\n 1. Python\n 2. R\n 3. JavaScript",
      "metadata": {}
    },
    {
      "cell_type": "markdown",
      "source": "Certains des bibliothèques couramment utilisées par les scientifiques des données incluent:\n 1.  Pandas\n 2. Numpy\n 3. ggplot",
      "metadata": {}
    },
    {
      "cell_type": "markdown",
      "source": "|Outils de la science des données |\n|:---------------------------------|\n|Jupyter notebook / JupyterLab    |\n|VsCode                           |\n|RStudio                          |\n",
      "metadata": {}
    },
    {
      "cell_type": "markdown",
      "source": "### Voici quelques exemples d'évaluation d'expressions arithmétiques en Python.",
      "metadata": {}
    },
    {
      "cell_type": "code",
      "source": "# Ceci est une simple expression arithmétique pour multiplier puis additionner des entiers\n(3*4)+5\n",
      "metadata": {
        "trusted": true
      },
      "outputs": [
        {
          "execution_count": 2,
          "output_type": "execute_result",
          "data": {
            "text/plain": "17"
          },
          "metadata": {}
        }
      ],
      "execution_count": 2
    },
    {
      "cell_type": "code",
      "source": "\"\"\" Ce code convertira 200 minutes en heures en divisant par 60 \"\"\"\na = 200\nb = 60\nresultat = a / b\nprint(\"La durée en heure est:\", resultat)",
      "metadata": {
        "trusted": true
      },
      "outputs": [
        {
          "name": "stdout",
          "text": "La durée en heure est: 3.3333333333333335\n",
          "output_type": "stream"
        }
      ],
      "execution_count": 12
    },
    {
      "cell_type": "markdown",
      "source": "Dans ce notebook, les outils et l'écosystème de la science des données sont résumés.",
      "metadata": {}
    },
    {
      "cell_type": "markdown",
      "source": "**Objectifs**:\n - Lister les langages populaires pour la science des données\n - Connaître les bibliothèques couramment utilisés en science des données\n - Comment faire un commentaire dans Jupyter Notebook\n - Connaître les outils open source d'environnement de developpement\n - Savoir créer un tableau dans une cellule markdown de Jupyter Notebook",
      "metadata": {}
    },
    {
      "cell_type": "markdown",
      "source": "## Auteur\nKOGBETSE Sunday Mawunya Ezéchiel",
      "metadata": {}
    },
    {
      "cell_type": "code",
      "source": "",
      "metadata": {
        "trusted": true
      },
      "outputs": [],
      "execution_count": null
    }
  ]
}